{
  "nbformat": 4,
  "nbformat_minor": 0,
  "metadata": {
    "colab": {
      "provenance": [],
      "collapsed_sections": []
    },
    "kernelspec": {
      "name": "python3",
      "display_name": "Python 3"
    },
    "language_info": {
      "name": "python"
    }
  },
  "cells": [
    {
      "cell_type": "code",
      "execution_count": null,
      "metadata": {
        "id": "rXg0OuEsUTi_"
      },
      "outputs": [],
      "source": [
        "import torch"
      ]
    },
    {
      "cell_type": "code",
      "source": [
        "#declare tensor\n",
        "a=torch.tensor([1,2,3,4])\n",
        "print(a,a.dtype)\n",
        "#give data type explicitly\n",
        "b=torch.tensor([1,2,3,4],dtype=torch.float16)\n",
        "print(b,b.type)"
      ],
      "metadata": {
        "colab": {
          "base_uri": "https://localhost:8080/"
        },
        "id": "SLeDe_-mIen8",
        "outputId": "daa290da-63da-429a-871e-51e9dfac5f4c"
      },
      "execution_count": null,
      "outputs": [
        {
          "output_type": "stream",
          "name": "stdout",
          "text": [
            "tensor([1, 2, 3, 4]) torch.int64\n",
            "tensor([1., 2., 3., 4.], dtype=torch.float16) <built-in method type of Tensor object at 0x7f7f9b27f350>\n"
          ]
        }
      ]
    },
    {
      "cell_type": "code",
      "source": [
        "#change type of tensor\n",
        "b=a.type(torch.int32)\n",
        "print(b.dtype)\n",
        "#check size of tensor\n",
        "print(b.size())\n",
        "#rank of tensor\n",
        "print(a.ndimension())"
      ],
      "metadata": {
        "colab": {
          "base_uri": "https://localhost:8080/"
        },
        "id": "ZNf3bR9WIrnD",
        "outputId": "e060ac63-bdff-4f39-aa40-81a30cf85140"
      },
      "execution_count": null,
      "outputs": [
        {
          "output_type": "stream",
          "name": "stdout",
          "text": [
            "torch.int32\n",
            "torch.Size([4])\n",
            "1\n"
          ]
        }
      ]
    },
    {
      "cell_type": "code",
      "source": [
        "#reshape tensor\n",
        "a_col=a.view(2,2)\n",
        "a_col"
      ],
      "metadata": {
        "colab": {
          "base_uri": "https://localhost:8080/"
        },
        "id": "LiVm_1-XKmQ9",
        "outputId": "9a206c16-270e-4006-8017-d4645d8bd039"
      },
      "execution_count": null,
      "outputs": [
        {
          "output_type": "execute_result",
          "data": {
            "text/plain": [
              "tensor([[1, 2],\n",
              "        [3, 4]])"
            ]
          },
          "metadata": {},
          "execution_count": 30
        }
      ]
    },
    {
      "cell_type": "code",
      "source": [
        "#delete varoiavle\n",
        "del a_col\n",
        "a_col"
      ],
      "metadata": {
        "colab": {
          "base_uri": "https://localhost:8080/"
        },
        "id": "KH_L_SD4K-QA",
        "outputId": "fd719c84-9f52-49fe-9826-868caa70d2d4"
      },
      "execution_count": null,
      "outputs": [
        {
          "output_type": "execute_result",
          "data": {
            "text/plain": [
              "tensor([[1, 2],\n",
              "        [3, 4]])"
            ]
          },
          "metadata": {},
          "execution_count": 31
        }
      ]
    },
    {
      "cell_type": "code",
      "source": [
        "import numpy as np\n",
        "#conversion tensor - numpy\n",
        "arr= np.array([0,1,2,3,4,5])\n",
        "print(arr)\n",
        "torch_tensor= torch.from_numpy(arr)\n",
        "print(torch_tensor)\n",
        "numpy_arr=torch_tensor.numpy()\n",
        "print(numpy_arr)\n",
        "#convert to list\n",
        "print(torch_tensor.tolist())\n",
        "\n",
        "#indivudial elemets are tensors\n",
        "print(torch_tensor[0])\n",
        "\n",
        "# return numbers instead of tensor\n",
        "print(torch_tensor[0].item)"
      ],
      "metadata": {
        "colab": {
          "base_uri": "https://localhost:8080/"
        },
        "id": "2JU8s5l0LS1S",
        "outputId": "36101f37-0a75-4d1b-8f8b-5285cb1df4fb"
      },
      "execution_count": null,
      "outputs": [
        {
          "output_type": "stream",
          "name": "stdout",
          "text": [
            "[0 1 2 3 4 5]\n",
            "tensor([0, 1, 2, 3, 4, 5])\n",
            "[0 1 2 3 4 5]\n",
            "[0, 1, 2, 3, 4, 5]\n",
            "tensor(0)\n",
            "<built-in method item of Tensor object at 0x7f7f9b249110>\n"
          ]
        }
      ]
    },
    {
      "cell_type": "code",
      "source": [
        "##indexing and slicing\n",
        "torch_tensor[0]=10\n",
        "print(torch_tensor)\n",
        "print(torch_tensor[1:3])"
      ],
      "metadata": {
        "colab": {
          "base_uri": "https://localhost:8080/"
        },
        "id": "4iOy7dYLO77M",
        "outputId": "dd06e58b-d448-4355-8fe6-bfe701e5c18c"
      },
      "execution_count": null,
      "outputs": [
        {
          "output_type": "stream",
          "name": "stdout",
          "text": [
            "tensor([10,  1,  2,  3,  4,  5])\n",
            "tensor([1, 2])\n"
          ]
        }
      ]
    },
    {
      "cell_type": "code",
      "source": [
        "#vector addition and substraction\n",
        "u=torch.tensor([1,1,1])\n",
        "v=torch.tensor([2,2,2])\n",
        "print(u+v) #addition\n",
        "print(u+10) #scalar addition brodcast\n",
        "print(2*u) #scalar multiplication\n",
        "print(u*v) #hadamad product\n",
        "print(torch.dot(u,v)) #tensor similarity- dot product\n",
        "w=u.type(torch.float32)\n",
        "#print(u.mean()) #this will give you an error, u must be float\n",
        "print(w.mean())\n",
        "print(w.max()) #find max value\n",
        "print(np.pi)\n",
        "x=torch.tensor([0,np.pi/2,np.pi])\n",
        "print(torch.sin(x))\n",
        "x=torch.linspace(0,2*np.pi,100) # 100 numbers between 0,2pi\n",
        "y=torch.sin(x)\n",
        "import matplotlib.pyplot as plt\n",
        "plt.plot(x.numpy(),y.numpy())\n"
      ],
      "metadata": {
        "colab": {
          "base_uri": "https://localhost:8080/",
          "height": 439
        },
        "id": "kVAtGYJuQUJ0",
        "outputId": "fd9f216a-f37c-42fd-d3b8-383c0358dcff"
      },
      "execution_count": null,
      "outputs": [
        {
          "output_type": "stream",
          "name": "stdout",
          "text": [
            "tensor([3, 3, 3])\n",
            "tensor([11, 11, 11])\n",
            "tensor([2, 2, 2])\n",
            "tensor([2, 2, 2])\n",
            "tensor(6)\n",
            "tensor(1.)\n",
            "tensor(1.)\n",
            "3.141592653589793\n",
            "tensor([ 0.0000e+00,  1.0000e+00, -8.7423e-08])\n"
          ]
        },
        {
          "output_type": "execute_result",
          "data": {
            "text/plain": [
              "[<matplotlib.lines.Line2D at 0x7f7f9b02b9d0>]"
            ]
          },
          "metadata": {},
          "execution_count": 58
        },
        {
          "output_type": "display_data",
          "data": {
            "text/plain": [
              "<Figure size 432x288 with 1 Axes>"
            ],
            "image/png": "[encoded data removed]"
          },
          "metadata": {
            "needs_background": "light"
          }
        }
      ]
    },
    {
      "cell_type": "code",
      "source": [
        "import torch\n",
        "x=torch.tensor(2.0,requires_grad=True)\n",
        "y=x**2\n",
        "print(y)\n",
        "print(y.backward())\n",
        "print(x.grad)\n",
        "print(y.grad)"
      ],
      "metadata": {
        "id": "N33GVzzFSj6s",
        "colab": {
          "base_uri": "https://localhost:8080/"
        },
        "outputId": "0611f06a-b858-4ba3-ff11-148dc2298864"
      },
      "execution_count": null,
      "outputs": [
        {
          "output_type": "stream",
          "name": "stdout",
          "text": [
            "tensor(4., grad_fn=<PowBackward0>)\n",
            "None\n",
            "tensor(4.)\n",
            "None\n"
          ]
        },
        {
          "output_type": "stream",
          "name": "stderr",
          "text": [
            "/usr/local/lib/python3.7/dist-packages/torch/_tensor.py:1083: UserWarning: The .grad attribute of a Tensor that is not a leaf Tensor is being accessed. Its .grad attribute won't be populated during autograd.backward(). If you indeed want the .grad field to be populated for a non-leaf Tensor, use .retain_grad() on the non-leaf Tensor. If you access the non-leaf Tensor by mistake, make sure you access the leaf Tensor instead. See github.com/pytorch/pytorch/pull/30531 for more informations. (Triggered internally at  aten/src/ATen/core/TensorBody.h:477.)\n",
            "  return self._grad\n"
          ]
        }
      ]
    },
    {
      "cell_type": "code",
      "source": [],
      "metadata": {
        "id": "b-rfIkh2lWO5"
      },
      "execution_count": null,
      "outputs": []
    }
  ]
}